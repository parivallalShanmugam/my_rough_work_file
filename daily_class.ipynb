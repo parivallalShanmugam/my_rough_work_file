{
 "cells": [
  {
   "cell_type": "code",
   "execution_count": 27,
   "metadata": {},
   "outputs": [
    {
     "name": "stdout",
     "output_type": "stream",
     "text": [
      ".conda\n",
      ".git\n",
      "BigBasket Products.xlsx\n",
      "codekata_strings.ipynb\n",
      "daily_class.ipynb\n",
      "first.py\n",
      "image\n",
      "jl.jsonl\n",
      "js.json\n",
      "main.py\n",
      "parivallal.jpg\n",
      "patterns.ipynb\n",
      "rough.ipynb\n",
      "skill_india.ipynb\n",
      "__pycache__\n"
     ]
    }
   ],
   "source": [
    "import os\n",
    "for i in os.listdir():\n",
    "    #if i.lower().endswith('jpeg','jpg'):\n",
    "\n",
    "    print(i)"
   ]
  },
  {
   "cell_type": "code",
   "execution_count": 4,
   "metadata": {},
   "outputs": [],
   "source": [
    "import cv2"
   ]
  },
  {
   "cell_type": "code",
   "execution_count": 20,
   "metadata": {},
   "outputs": [
    {
     "name": "stdout",
     "output_type": "stream",
     "text": [
      "Image shape: (239, 159, 3)\n"
     ]
    }
   ],
   "source": [
    "import cv2\n",
    "\n",
    "# Read an image\n",
    "image = cv2.imread('parivallal.jpg')\n",
    "\n",
    "# Display basic information about the image\n",
    "print(\"Image shape:\", image.shape)\n",
    "\n",
    "# Show the image\n",
    "\n",
    "cv2.imshow('Image', image)\n",
    "cv2.waitKey(0)\n",
    "cv2.destroyAllWindows()"
   ]
  },
  {
   "cell_type": "code",
   "execution_count": 18,
   "metadata": {},
   "outputs": [
    {
     "name": "stdout",
     "output_type": "stream",
     "text": [
      "[ 38  59 241]\n"
     ]
    }
   ],
   "source": [
    "google_image = cv2.imread('colored.jpeg')\n",
    "#print(pari)\n",
    "print(google_image[123][123])"
   ]
  },
  {
   "cell_type": "code",
   "execution_count": 25,
   "metadata": {},
   "outputs": [],
   "source": [
    "import cv2\n",
    "\n",
    "# Load the image\n",
    "car = cv2.imread(\"D:/python practice/image/car.jpeg\")\n",
    "\n",
    "# Check if the image was loaded successfully\n",
    "if car is None:\n",
    "    print(\"Error: Unable to load the image.\")\n",
    "else:\n",
    "    # Display the image\n",
    "    cv2.imshow('car', car)\n",
    "    cv2.waitKey(0)\n",
    "    cv2.destroyAllWindows()\n"
   ]
  },
  {
   "cell_type": "code",
   "execution_count": 34,
   "metadata": {},
   "outputs": [
    {
     "name": "stdout",
     "output_type": "stream",
     "text": [
      "['car.jpeg', 'cat.jpeg', 'colored.jpeg', 'dancer.jpeg', 'fish.jpeg', 'forest.jpeg', 'pandas.jpeg']\n"
     ]
    }
   ],
   "source": [
    "image_list = []\n",
    "\n",
    "for folder in os.listdir():\n",
    "    if folder.lower().endswith('.jpeg'):\n",
    "        image_list.append(folder)\n",
    "\n",
    "print(image_list)    \n",
    "for image in image_list:\n",
    "\n",
    "    list_image = cv2.imread(image)\n",
    "    cv2.imshow('list_image', list_image)\n",
    "    cv2.waitKey(0)\n",
    "    cv2.destroyAllWindows()\n",
    "    "
   ]
  }
 ],
 "metadata": {
  "kernelspec": {
   "display_name": "Python 3",
   "language": "python",
   "name": "python3"
  },
  "language_info": {
   "codemirror_mode": {
    "name": "ipython",
    "version": 3
   },
   "file_extension": ".py",
   "mimetype": "text/x-python",
   "name": "python",
   "nbconvert_exporter": "python",
   "pygments_lexer": "ipython3",
   "version": "3.12.2"
  }
 },
 "nbformat": 4,
 "nbformat_minor": 2
}
