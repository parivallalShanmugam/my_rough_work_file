{
 "cells": [
  {
   "cell_type": "code",
   "execution_count": 1,
   "metadata": {},
   "outputs": [],
   "source": [
    "import pandas as pd\n",
    "import mysql.connector"
   ]
  },
  {
   "cell_type": "code",
   "execution_count": 2,
   "metadata": {},
   "outputs": [],
   "source": [
    "conn = mysql.connector.connect(username='root',host='127.0.0.1',password='Admin@123',database='master_sample')\n",
    "cursor = conn.cursor()"
   ]
  },
  {
   "cell_type": "code",
   "execution_count": 3,
   "metadata": {},
   "outputs": [],
   "source": [
    "top_10 = '''\n",
    "    SELECT product_id, SUM(sale_price) AS sales\n",
    "    FROM df_orders\n",
    "    GROUP BY product_id\n",
    "    ORDER BY sales desc\n",
    "'''"
   ]
  },
  {
   "cell_type": "code",
   "execution_count": 6,
   "metadata": {},
   "outputs": [
    {
     "data": {
      "text/plain": [
       "[('TEC-CO-10004722', Decimal('59514')),\n",
       " ('OFF-BI-10003527', Decimal('26525')),\n",
       " ('TEC-MA-10002412', Decimal('21734')),\n",
       " ('FUR-CH-10002024', Decimal('21096')),\n",
       " ('OFF-BI-10001359', Decimal('19090')),\n",
       " ('OFF-BI-10000545', Decimal('18249')),\n",
       " ('TEC-CO-10001449', Decimal('18151')),\n",
       " ('TEC-MA-10001127', Decimal('17906')),\n",
       " ('OFF-BI-10004995', Decimal('17355')),\n",
       " ('OFF-SU-10000151', Decimal('16327'))]"
      ]
     },
     "execution_count": 6,
     "metadata": {},
     "output_type": "execute_result"
    }
   ],
   "source": [
    "cursor.execute(top_10)\n",
    "rf = cursor.fetchall()\n",
    "rf"
   ]
  },
  {
   "cell_type": "code",
   "execution_count": 5,
   "metadata": {},
   "outputs": [
    {
     "name": "stdout",
     "output_type": "stream",
     "text": [
      "[('TEC-CO-10004722', Decimal('59514')), ('OFF-BI-10003527', Decimal('26525')), ('TEC-MA-10002412', Decimal('21734')), ('FUR-CH-10002024', Decimal('21096')), ('OFF-BI-10001359', Decimal('19090')), ('OFF-BI-10000545', Decimal('18249')), ('TEC-CO-10001449', Decimal('18151')), ('TEC-MA-10001127', Decimal('17906')), ('OFF-BI-10004995', Decimal('17355')), ('OFF-SU-10000151', Decimal('16327'))]\n"
     ]
    }
   ],
   "source": [
    "top_10 = '''\n",
    "    SELECT product_id, SUM(sale_price) AS sales\n",
    "    FROM df_orders\n",
    "    GROUP BY product_id\n",
    "    ORDER BY sales DESC\n",
    "    LIMIT 10\n",
    "'''\n",
    "\n",
    "cursor.execute(top_10)\n",
    "rf = cursor.fetchall()\n",
    "print(rf)\n"
   ]
  }
 ],
 "metadata": {
  "kernelspec": {
   "display_name": "Python 3",
   "language": "python",
   "name": "python3"
  },
  "language_info": {
   "codemirror_mode": {
    "name": "ipython",
    "version": 3
   },
   "file_extension": ".py",
   "mimetype": "text/x-python",
   "name": "python",
   "nbconvert_exporter": "python",
   "pygments_lexer": "ipython3",
   "version": "3.12.2"
  }
 },
 "nbformat": 4,
 "nbformat_minor": 2
}
