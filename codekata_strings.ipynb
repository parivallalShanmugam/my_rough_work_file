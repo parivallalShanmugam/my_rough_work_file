{
 "cells": [
  {
   "cell_type": "code",
   "execution_count": 2,
   "metadata": {},
   "outputs": [
    {
     "name": "stdout",
     "output_type": "stream",
     "text": [
      "1\n"
     ]
    }
   ],
   "source": [
    "s1 = input().lower\n",
    "s2 = input().lower\n",
    "if sorted(s1) == sorted(s2):\n",
    "    print('1')\n",
    "else:\n",
    "    print('0')    \n"
   ]
  },
  {
   "cell_type": "code",
   "execution_count": 1,
   "metadata": {},
   "outputs": [
    {
     "name": "stdout",
     "output_type": "stream",
     "text": [
      "xdrd252577256 1\n"
     ]
    }
   ],
   "source": [
    "lst = list(map(str,input().split()))\n",
    "\n",
    "unique_list = set(lst)\n",
    "candidates = []\n",
    "vote_count = []\n",
    "\n",
    "for word in unique_list:\n",
    "    count = lst.count(word)\n",
    "    vote_count.append(count)\n",
    "    candidates.append(word)\n",
    "max_vote = max(vote_count)     \n",
    "max_vote_count_index = vote_count.index(max_vote)\n",
    "winner = candidates[max_vote_count_index]\n",
    "print(f\"{winner} {max_vote}\")"
   ]
  },
  {
   "cell_type": "code",
   "execution_count": null,
   "metadata": {},
   "outputs": [],
   "source": []
  }
 ],
 "metadata": {
  "kernelspec": {
   "display_name": "Python 3",
   "language": "python",
   "name": "python3"
  },
  "language_info": {
   "codemirror_mode": {
    "name": "ipython",
    "version": 3
   },
   "file_extension": ".py",
   "mimetype": "text/x-python",
   "name": "python",
   "nbconvert_exporter": "python",
   "pygments_lexer": "ipython3",
   "version": "3.12.2"
  }
 },
 "nbformat": 4,
 "nbformat_minor": 2
}
