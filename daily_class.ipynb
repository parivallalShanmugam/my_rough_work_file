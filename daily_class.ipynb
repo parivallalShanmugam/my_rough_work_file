{
 "cells": [
  {
   "cell_type": "code",
   "execution_count": 27,
   "metadata": {},
   "outputs": [
    {
     "name": "stdout",
     "output_type": "stream",
     "text": [
      ".conda\n",
      ".git\n",
      "BigBasket Products.xlsx\n",
      "codekata_strings.ipynb\n",
      "daily_class.ipynb\n",
      "first.py\n",
      "image\n",
      "jl.jsonl\n",
      "js.json\n",
      "main.py\n",
      "parivallal.jpg\n",
      "patterns.ipynb\n",
      "rough.ipynb\n",
      "skill_india.ipynb\n",
      "__pycache__\n"
     ]
    }
   ],
   "source": [
    "import os\n",
    "for i in os.listdir():\n",
    "    #if i.lower().endswith('jpeg','jpg'):\n",
    "\n",
    "    print(i)"
   ]
  },
  {
   "cell_type": "code",
   "execution_count": 4,
   "metadata": {},
   "outputs": [],
   "source": [
    "import cv2"
   ]
  },
  {
   "cell_type": "code",
   "execution_count": 20,
   "metadata": {},
   "outputs": [
    {
     "name": "stdout",
     "output_type": "stream",
     "text": [
      "Image shape: (239, 159, 3)\n"
     ]
    }
   ],
   "source": [
    "import cv2\n",
    "\n",
    "# Read an image\n",
    "image = cv2.imread('parivallal.jpg')\n",
    "\n",
    "# Display basic information about the image\n",
    "print(\"Image shape:\", image.shape)\n",
    "\n",
    "# Show the image\n",
    "\n",
    "cv2.imshow('Image', image)\n",
    "cv2.waitKey(0)\n",
    "cv2.destroyAllWindows()"
   ]
  },
  {
   "cell_type": "code",
   "execution_count": 18,
   "metadata": {},
   "outputs": [
    {
     "name": "stdout",
     "output_type": "stream",
     "text": [
      "[ 38  59 241]\n"
     ]
    }
   ],
   "source": [
    "google_image = cv2.imread('colored.jpeg')\n",
    "#print(pari)\n",
    "print(google_image[123][123])"
   ]
  },
  {
   "cell_type": "code",
   "execution_count": 25,
   "metadata": {},
   "outputs": [],
   "source": [
    "import cv2\n",
    "\n",
    "# Load the image\n",
    "car = cv2.imread(\"D:/python practice/image/car.jpeg\")\n",
    "\n",
    "# Check if the image was loaded successfully\n",
    "if car is None:\n",
    "    print(\"Error: Unable to load the image.\")\n",
    "else:\n",
    "    # Display the image\n",
    "    cv2.imshow('car', car)\n",
    "    cv2.waitKey(0)\n",
    "    cv2.destroyAllWindows()\n"
   ]
  },
  {
   "cell_type": "code",
   "execution_count": 36,
   "metadata": {},
   "outputs": [
    {
     "name": "stdout",
     "output_type": "stream",
     "text": [
      "(168, 300, 3)\n",
      "(182, 277, 3)\n",
      "(170, 297, 3)\n",
      "(168, 301, 3)\n",
      "(183, 275, 3)\n",
      "(177, 284, 3)\n",
      "(232, 217, 3)\n"
     ]
    }
   ],
   "source": [
    "image_list = []\n",
    "\n",
    "for folder in os.listdir():\n",
    "    if folder.lower().endswith('.jpeg'):\n",
    "        image_list.append(folder)\n",
    "\n",
    "for image in image_list:\n",
    "    list_image = cv2.imread(image)\n",
    "\n",
    "    print(list_image.shape)\n",
    "    cv2.imshow('list_image', list_image)\n",
    "    cv2.waitKey(0)\n",
    "    cv2.destroyAllWindows()\n",
    "    "
   ]
  },
  {
   "cell_type": "markdown",
   "metadata": {},
   "source": [
    "#regular expression"
   ]
  },
  {
   "cell_type": "code",
   "execution_count": 3,
   "metadata": {},
   "outputs": [],
   "source": [
    "import re"
   ]
  },
  {
   "cell_type": "code",
   "execution_count": 6,
   "metadata": {},
   "outputs": [
    {
     "data": {
      "text/plain": [
       "<re.Match object; span=(0, 5), match='hello'>"
      ]
     },
     "execution_count": 6,
     "metadata": {},
     "output_type": "execute_result"
    }
   ],
   "source": [
    "patteren = 'hello'\n",
    "txt = 'hello world'\n",
    "\n",
    "match = re.match(patteren,txt)\n",
    "match"
   ]
  },
  {
   "cell_type": "code",
   "execution_count": 17,
   "metadata": {},
   "outputs": [
    {
     "name": "stdout",
     "output_type": "stream",
     "text": [
      "['user1@example.com', 'test123@gmail.com', 'john.doe@hotmail.com', 'alice_smith@yahoo.com', 'info007@outlook.com', 'developer23@aol.com', 'marketing_team@live.com', 'support_xyz@icloud.com', 'sales_rep1@protonmail.com', 'customer.service@mail.com', 'webmaster99@inbox.com', 'contact_us@fastmail.com', 'admin007@yandex.com', 'hr_manager@yahoo.co', 'finance_dept@rediffmail.com', 'techsupport42@zoho.com', 'social_media@rocketmail.com', 'feedback22@ymail.com', 'research_group@hotmail.co', 'helpdesk123@live.co', 'media_team@gmail.co', 'accounts_payable@icloud.co', 'marketing_director@outlook.co', 'customer_support@protonmail.co', 'sales_manager@mail.co', 'project_manager@inbox.co', 'billing_department@fastmail.co', 'info.tech@yandex.co', 'team_leader@yahoo.in', 'contact.sales@rediffmail.in', 'customer_care@zoho.in', 'billing_support@aol.in', 'feedback.manager@outlook.in', 'service_desk@mail.in', 'operations_team@protonmail.in', 'info.humanresources@live.in', 'support_services@gmail.in', 'events_coordinator@icloud.in', 'marketing_associate@ymail.in', 'communications_manager@hotmail.in', 'software_engineer@yahoo.com', 'marketing_consultant@gmail.com', 'customer_service_rep@hotmail.com', 'sales_executive@yahoo.com', 'product_manager@gmail.com', 'support_engineer@hotmail.com', 'accounts_manager@yahoo.com', 'business_analyst@gmail.com', 'customer_relations@hotmail.com', 'web_designer@yahoo.com']\n",
      "['hr_manager@yahoo.co.uk', 'research_group@hotmail.co.uk', 'helpdesk123@live.co.uk', 'media_team@gmail.co.uk', 'accounts_payable@icloud.co.uk', 'marketing_director@outlook.co.uk', 'customer_support@protonmail.co.uk', 'sales_manager@mail.co.uk', 'project_manager@inbox.co.uk', 'billing_department@fastmail.co.uk', 'info.tech@yandex.co.uk', 'software_engineer@yahoo.com.au', 'marketing_consultant@gmail.com.au', 'customer_service_rep@hotmail.com.au', 'sales_executive@yahoo.com.au', 'product_manager@gmail.com.au', 'support_engineer@hotmail.com.au', 'accounts_manager@yahoo.com.au', 'business_analyst@gmail.com.au', 'customer_relations@hotmail.com.au', 'web_designer@yahoo.com.au']\n"
     ]
    }
   ],
   "source": [
    "pattern = r'[a-z0-9._%+-]+@[a-z]+\\.[a-z]{2,}'\n",
    "pattern1 = r'[a-z0-9._%+-]+@[a-z]+\\.[a-z]{2,}+\\.[a-z]{1,}'\n",
    "\n",
    "txt = \"\"\"Here are 50 randomly generated email addresses: \n",
    "\n",
    "1. user1@example.com\n",
    "2. test123@gmail.com\n",
    "3. john.doe@hotmail.com\n",
    "4. alice_smith@yahoo.com\n",
    "5. info007@outlook.com\n",
    "6. developer23@aol.com\n",
    "7. marketing_team@live.com\n",
    "8. support_xyz@icloud.com\n",
    "9. sales_rep1@protonmail.com\n",
    "10. customer.service@mail.com\n",
    "11. webmaster99@inbox.com\n",
    "12. contact_us@fastmail.com\n",
    "13. admin007@yandex.com\n",
    "14. hr_manager@yahoo.co.uk\n",
    "15. finance_dept@rediffmail.com\n",
    "16. techsupport42@zoho.com\n",
    "17. social_media@rocketmail.com\n",
    "18. feedback22@ymail.com\n",
    "19. research_group@hotmail.co.uk\n",
    "20. helpdesk123@live.co.uk\n",
    "21. media_team@gmail.co.uk\n",
    "22. accounts_payable@icloud.co.uk\n",
    "23. marketing_director@outlook.co.uk\n",
    "24. customer_support@protonmail.co.uk\n",
    "25. sales_manager@mail.co.uk\n",
    "26. project_manager@inbox.co.uk\n",
    "27. billing_department@fastmail.co.uk\n",
    "28. info.tech@yandex.co.uk\n",
    "29. team_leader@yahoo.in\n",
    "30. contact.sales@rediffmail.in\n",
    "31. customer_care@zoho.in\n",
    "32. billing_support@aol.in\n",
    "33. feedback.manager@outlook.in\n",
    "34. service_desk@mail.in\n",
    "35. operations_team@protonmail.in\n",
    "36. info.humanresources@live.in\n",
    "37. support_services@gmail.in\n",
    "38. events_coordinator@icloud.in\n",
    "39. marketing_associate@ymail.in\n",
    "40. communications_manager@hotmail.in\n",
    "41. software_engineer@yahoo.com.au\n",
    "42. marketing_consultant@gmail.com.au\n",
    "43. customer_service_rep@hotmail.com.au\n",
    "44. sales_executive@yahoo.com.au\n",
    "45. product_manager@gmail.com.au\n",
    "46. support_engineer@hotmail.com.au\n",
    "47. accounts_manager@yahoo.com.au\n",
    "48. business_analyst@gmail.com.au\n",
    "49. customer_relations@hotmail.com.au\n",
    "50. web_designer@yahoo.com.au\n",
    "\n",
    "These are fictional email addresses generated for demonstration purposes only.\n",
    "\"\"\"\n",
    "match = re.findall(pattern,txt)\n",
    "match1 = re.findall(pattern1,txt)\n",
    "print(match)\n",
    "print(match1)"
   ]
  },
  {
   "cell_type": "code",
   "execution_count": 11,
   "metadata": {},
   "outputs": [
    {
     "data": {
      "text/plain": [
       "[]"
      ]
     },
     "execution_count": 11,
     "metadata": {},
     "output_type": "execute_result"
    }
   ],
   "source": [
    "txt = 'this is my mail id user1@example.com '\n",
    "pattern = r'[a-z0-9._%+-]+@[a-z]+\\.[a-z]{2,}'\n",
    "match = re.findall(pattern,txt)\n",
    "match"
   ]
  },
  {
   "cell_type": "code",
   "execution_count": 1,
   "metadata": {},
   "outputs": [
    {
     "name": "stdout",
     "output_type": "stream",
     "text": [
      "Something is happening before the function is called.\n",
      "Hello!\n",
      "Something is happening after the function is called.\n"
     ]
    }
   ],
   "source": [
    "# Define a decorator function\n",
    "def my_decorator(func):\n",
    "    def wrapper():\n",
    "        print(\"Something is happening before the function is called.\")\n",
    "        func()  # Call the original function\n",
    "        print(\"Something is happening after the function is called.\")\n",
    "    return wrapper\n",
    "\n",
    "# Define a function to be decorated\n",
    "def say_hello():\n",
    "    print(\"Hello!\")\n",
    "\n",
    "# Decorate the function using the decorator\n",
    "say_hello = my_decorator(say_hello)\n",
    "\n",
    "# Call the decorated function\n",
    "say_hello()\n"
   ]
  },
  {
   "cell_type": "code",
   "execution_count": 15,
   "metadata": {},
   "outputs": [
    {
     "name": "stdout",
     "output_type": "stream",
     "text": [
      "this is starting of the code\n",
      "11\n"
     ]
    }
   ],
   "source": [
    "def decorator_add(func):\n",
    "    def wrapper(x,y):\n",
    "        print('this is starting of the code')\n",
    "        func(x,y)\n",
    "    return wrapper\n",
    "\n",
    "def add(x,y):\n",
    "    print(x+y) \n",
    "\n",
    "    #print('ggh')\n",
    "add = decorator_add(add)\n",
    "\n",
    "add(5,6)\n",
    "\n",
    "\n",
    "\n",
    "\n"
   ]
  },
  {
   "cell_type": "code",
   "execution_count": 17,
   "metadata": {},
   "outputs": [
    {
     "name": "stdout",
     "output_type": "stream",
     "text": [
      "0 pari\n",
      "1 vallal\n",
      "2 sasi\n",
      "3 kala\n"
     ]
    }
   ],
   "source": [
    "lst = ['pari','vallal','sasi','kala']\n",
    "\n",
    "for i,j in enumerate(lst):\n",
    "    print(i,j)\n"
   ]
  }
 ],
 "metadata": {
  "kernelspec": {
   "display_name": "Python 3",
   "language": "python",
   "name": "python3"
  },
  "language_info": {
   "codemirror_mode": {
    "name": "ipython",
    "version": 3
   },
   "file_extension": ".py",
   "mimetype": "text/x-python",
   "name": "python",
   "nbconvert_exporter": "python",
   "pygments_lexer": "ipython3",
   "version": "3.12.2"
  }
 },
 "nbformat": 4,
 "nbformat_minor": 2
}
